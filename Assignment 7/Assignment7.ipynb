{
 "cells": [
  {
   "cell_type": "code",
   "execution_count": 1,
   "id": "d48008a4",
   "metadata": {},
   "outputs": [],
   "source": [
    "#Getting the files\n",
    "import os\n",
    "import numpy as np\n",
    "\n",
    "def unpickle(file):\n",
    "    import pickle\n",
    "    with open(file, 'rb') as fo:\n",
    "        dict = pickle.load(fo, encoding='bytes')\n",
    "    return dict\n",
    "\n",
    "label_names = unpickle('cifar-10-batches-py/batches.meta')[b'label_names']\n",
    "training_files = ['data_batch_2','data_batch_3','data_batch_4','data_batch_5']\n",
    "\n",
    "training_dict = unpickle('cifar-10-batches-py/data_batch_1')\n",
    "\n",
    "training_data = training_dict[b'data']\n",
    "training_labels = training_dict[b'labels']\n",
    "\n",
    "for f in training_files:\n",
    "    training_dict = unpickle('cifar-10-batches-py/'+f)\n",
    "    training_data = np.concatenate((training_data,training_dict[b'data']),axis=0)\n",
    "    training_labels += training_dict[b'labels']\n",
    "\n",
    "test_dict = unpickle('cifar-10-batches-py/test_batch')\n",
    "\n",
    "test_data = test_dict[b'data']\n",
    "test_labels = test_dict[b'labels']\n",
    "\n",
    "def dataToIMG(arr):\n",
    "    RGBsort = np.stack(np.hsplit(arr,3),2)\n",
    "    IMGsort = np.swapaxes(np.swapaxes(np.stack(np.split(RGBsort,32,1),3),2,3),1,2)\n",
    "    return IMGsort"
   ]
  },
  {
   "cell_type": "markdown",
   "id": "962f8c65",
   "metadata": {},
   "source": [
    "b'batch_label' \n",
    "   &emsp;Ignore since we don't use their batches\n",
    "\n",
    "b'labels'\n",
    "    &emsp;Our output data\n",
    "\n",
    "b'data'\n",
    "    &emsp;Our input data, values go from 0 to 255\n",
    "\n",
    "b'filenames'\n",
    "    &emsp;Ignore since filenames aren't needed"
   ]
  },
  {
   "cell_type": "code",
   "execution_count": 11,
   "id": "e1525d3f",
   "metadata": {},
   "outputs": [
    {
     "name": "stdout",
     "output_type": "stream",
     "text": [
      "b'ship'\n"
     ]
    },
    {
     "data": {
      "image/png": "[encoded data removed]",
      "text/plain": [
       "<Figure size 432x288 with 1 Axes>"
      ]
     },
     "metadata": {
      "needs_background": "light"
     },
     "output_type": "display_data"
    }
   ],
   "source": [
    "import matplotlib.pyplot as plt\n",
    "\n",
    "picID = 2\n",
    "\n",
    "plt.imshow(dataToIMG(test_data)[picID])\n",
    "print(label_names[test_labels[picID]])"
   ]
  },
  {
   "cell_type": "markdown",
   "id": "be1bf453",
   "metadata": {},
   "source": [
    "Model 1:"
   ]
  },
  {
   "cell_type": "code",
   "execution_count": 6,
   "id": "1307883f",
   "metadata": {},
   "outputs": [
    {
     "name": "stdout",
     "output_type": "stream",
     "text": [
      "Model: \"sequential\"\n",
      "_________________________________________________________________\n",
      "Layer (type)                 Output Shape              Param #   \n",
      "=================================================================\n",
      "conv2d (Conv2D)              (None, 32, 32, 32)        416       \n",
      "_________________________________________________________________\n",
      "batch_normalization (BatchNo (None, 32, 32, 32)        128       \n",
      "_________________________________________________________________\n",
      "conv2d_1 (Conv2D)            (None, 32, 32, 32)        4128      \n",
      "_________________________________________________________________\n",
      "batch_normalization_1 (Batch (None, 32, 32, 32)        128       \n",
      "_________________________________________________________________\n",
      "max_pooling2d (MaxPooling2D) (None, 16, 16, 32)        0         \n",
      "_________________________________________________________________\n",
      "conv2d_2 (Conv2D)            (None, 16, 16, 64)        8256      \n",
      "_________________________________________________________________\n",
      "batch_normalization_2 (Batch (None, 16, 16, 64)        256       \n",
      "_________________________________________________________________\n",
      "conv2d_3 (Conv2D)            (None, 16, 16, 64)        16448     \n",
      "_________________________________________________________________\n",
      "batch_normalization_3 (Batch (None, 16, 16, 64)        256       \n",
      "_________________________________________________________________\n",
      "max_pooling2d_1 (MaxPooling2 (None, 8, 8, 64)          0         \n",
      "_________________________________________________________________\n",
      "conv2d_4 (Conv2D)            (None, 8, 8, 128)         32896     \n",
      "_________________________________________________________________\n",
      "batch_normalization_4 (Batch (None, 8, 8, 128)         512       \n",
      "_________________________________________________________________\n",
      "conv2d_5 (Conv2D)            (None, 8, 8, 128)         65664     \n",
      "_________________________________________________________________\n",
      "batch_normalization_5 (Batch (None, 8, 8, 128)         512       \n",
      "_________________________________________________________________\n",
      "max_pooling2d_2 (MaxPooling2 (None, 4, 4, 128)         0         \n",
      "_________________________________________________________________\n",
      "flatten (Flatten)            (None, 2048)              0         \n",
      "_________________________________________________________________\n",
      "dense (Dense)                (None, 128)               262272    \n",
      "_________________________________________________________________\n",
      "dense_1 (Dense)              (None, 10)                1290      \n",
      "=================================================================\n",
      "Total params: 393,162\n",
      "Trainable params: 392,266\n",
      "Non-trainable params: 896\n",
      "_________________________________________________________________\n"
     ]
    }
   ],
   "source": [
    "from keras import layers\n",
    "from keras import models\n",
    "\n",
    "model1 = models.Sequential()\n",
    "model1.add(layers.Conv2D(32, (2, 2), activation='relu', padding='same',\n",
    "                        input_shape=(32, 32, 3)))\n",
    "model1.add(layers.BatchNormalization())\n",
    "model1.add(layers.Conv2D(32, (2, 2), activation='relu', padding='same',))\n",
    "model1.add(layers.BatchNormalization())\n",
    "model1.add(layers.MaxPooling2D((2, 2)))\n",
    "\n",
    "model1.add(layers.Conv2D(64, (2, 2), activation='relu', padding='same',))\n",
    "model1.add(layers.BatchNormalization())\n",
    "model1.add(layers.Conv2D(64, (2, 2), activation='relu', padding='same',))\n",
    "model1.add(layers.BatchNormalization())\n",
    "model1.add(layers.MaxPooling2D((2, 2)))\n",
    "\n",
    "model1.add(layers.Conv2D(128, (2, 2), activation='relu', padding='same',))\n",
    "model1.add(layers.BatchNormalization())\n",
    "model1.add(layers.Conv2D(128, (2, 2), activation='relu', padding='same',))\n",
    "model1.add(layers.BatchNormalization())\n",
    "model1.add(layers.MaxPooling2D((2, 2)))\n",
    "\n",
    "model1.add(layers.Flatten())\n",
    "model1.add(layers.Dense(128, activation='relu'))\n",
    "model1.add(layers.Dense(10, activation='softmax'))\n",
    "model1.summary()\n",
    "\n",
    "from keras import optimizers\n",
    "\n",
    "model1.compile(loss='categorical_crossentropy',\n",
    "              optimizer=optimizers.SGD(lr=0.001,momentum=0.9),\n",
    "              metrics=['acc'])"
   ]
  },
  {
   "cell_type": "code",
   "execution_count": 7,
   "id": "42b7fcfc",
   "metadata": {},
   "outputs": [
    {
     "name": "stdout",
     "output_type": "stream",
     "text": [
      "Epoch 1/10\n",
      "625/625 [==============================] - 97s 155ms/step - loss: 1.5265 - acc: 0.4568 - val_loss: 1.2447 - val_acc: 0.5565\n",
      "Epoch 2/10\n",
      "625/625 [==============================] - 97s 155ms/step - loss: 1.0978 - acc: 0.6082 - val_loss: 1.0658 - val_acc: 0.6235\n",
      "Epoch 3/10\n",
      "625/625 [==============================] - 97s 156ms/step - loss: 0.9308 - acc: 0.6700 - val_loss: 1.0695 - val_acc: 0.6235\n",
      "Epoch 4/10\n",
      "625/625 [==============================] - 94s 151ms/step - loss: 0.8112 - acc: 0.7117 - val_loss: 0.9500 - val_acc: 0.6666\n",
      "Epoch 5/10\n",
      "625/625 [==============================] - 94s 151ms/step - loss: 0.7200 - acc: 0.7485 - val_loss: 0.9274 - val_acc: 0.6788\n",
      "Epoch 6/10\n",
      "625/625 [==============================] - 93s 149ms/step - loss: 0.6406 - acc: 0.7767 - val_loss: 0.8831 - val_acc: 0.6977\n",
      "Epoch 7/10\n",
      "625/625 [==============================] - 90s 145ms/step - loss: 0.5716 - acc: 0.8002 - val_loss: 0.8874 - val_acc: 0.6995\n",
      "Epoch 8/10\n",
      "625/625 [==============================] - 90s 144ms/step - loss: 0.5078 - acc: 0.8248 - val_loss: 0.8575 - val_acc: 0.7139\n",
      "Epoch 9/10\n",
      "625/625 [==============================] - 92s 147ms/step - loss: 0.4444 - acc: 0.8464 - val_loss: 0.8453 - val_acc: 0.7224\n",
      "Epoch 10/10\n",
      "625/625 [==============================] - 90s 144ms/step - loss: 0.3894 - acc: 0.8659 - val_loss: 0.9047 - val_acc: 0.7079\n"
     ]
    },
    {
     "data": {
      "text/plain": [
       "0.7309174984693527"
      ]
     },
     "execution_count": 7,
     "metadata": {},
     "output_type": "execute_result"
    }
   ],
   "source": [
    "from keras import utils\n",
    "from keras.preprocessing.image import ImageDataGenerator\n",
    "\n",
    "datagen = ImageDataGenerator(validation_split=0.2)\n",
    "\n",
    "train_generator = datagen.flow(\n",
    "    dataToIMG(training_data), \n",
    "    utils.to_categorical(training_labels), \n",
    "    batch_size=64,\n",
    "    subset=\"training\")\n",
    "\n",
    "validation_generator = datagen.flow(\n",
    "    dataToIMG(training_data), \n",
    "    utils.to_categorical(training_labels), \n",
    "    batch_size=64,\n",
    "    subset=\"validation\")\n",
    "\n",
    "history = model1.fit(\n",
    "    train_generator,\n",
    "    epochs=10,\n",
    "    validation_data=validation_generator)\n",
    "\n",
    "np.mean(history.history[\"acc\"])"
   ]
  },
  {
   "cell_type": "code",
   "execution_count": 19,
   "id": "f1ec3a0f",
   "metadata": {},
   "outputs": [
    {
     "name": "stdout",
     "output_type": "stream",
     "text": [
      "313/313 [==============================] - 3s 9ms/step - loss: 0.9397 - acc: 0.6965\n"
     ]
    }
   ],
   "source": [
    "img_test_data = dataToIMG(test_data)\n",
    "img_test_labels = utils.to_categorical(test_labels)\n",
    "\n",
    "model1.evaluate(\n",
    "    x=img_test_data,\n",
    "    y=img_test_labels)[1]\n",
    "\n",
    "model1.save('model1.h5')"
   ]
  },
  {
   "cell_type": "markdown",
   "id": "132d2bfc",
   "metadata": {},
   "source": [
    "Model 2"
   ]
  },
  {
   "cell_type": "code",
   "execution_count": 1,
   "id": "69c07078",
   "metadata": {},
   "outputs": [
    {
     "ename": "NameError",
     "evalue": "name 'models' is not defined",
     "output_type": "error",
     "traceback": [
      "\u001b[1;31m---------------------------------------------------------------------------\u001b[0m",
      "\u001b[1;31mNameError\u001b[0m                                 Traceback (most recent call last)",
      "\u001b[1;32m<ipython-input-1-f8d34fe62b47>\u001b[0m in \u001b[0;36m<module>\u001b[1;34m\u001b[0m\n\u001b[1;32m----> 1\u001b[1;33m \u001b[0mmodel2\u001b[0m \u001b[1;33m=\u001b[0m \u001b[0mmodels\u001b[0m\u001b[1;33m.\u001b[0m\u001b[0mSequential\u001b[0m\u001b[1;33m(\u001b[0m\u001b[1;33m)\u001b[0m\u001b[1;33m\u001b[0m\u001b[1;33m\u001b[0m\u001b[0m\n\u001b[0m\u001b[0;32m      2\u001b[0m model2.add(layers.Conv2D(32, (2, 2), activation='relu', padding='same',\n\u001b[0;32m      3\u001b[0m                         input_shape=(32, 32, 3)))\n\u001b[0;32m      4\u001b[0m \u001b[0mmodel2\u001b[0m\u001b[1;33m.\u001b[0m\u001b[0madd\u001b[0m\u001b[1;33m(\u001b[0m\u001b[0mlayers\u001b[0m\u001b[1;33m.\u001b[0m\u001b[0mBatchNormalization\u001b[0m\u001b[1;33m(\u001b[0m\u001b[1;33m)\u001b[0m\u001b[1;33m)\u001b[0m\u001b[1;33m\u001b[0m\u001b[1;33m\u001b[0m\u001b[0m\n\u001b[0;32m      5\u001b[0m \u001b[0mmodel2\u001b[0m\u001b[1;33m.\u001b[0m\u001b[0madd\u001b[0m\u001b[1;33m(\u001b[0m\u001b[0mlayers\u001b[0m\u001b[1;33m.\u001b[0m\u001b[0mConv2D\u001b[0m\u001b[1;33m(\u001b[0m\u001b[1;36m32\u001b[0m\u001b[1;33m,\u001b[0m \u001b[1;33m(\u001b[0m\u001b[1;36m2\u001b[0m\u001b[1;33m,\u001b[0m \u001b[1;36m2\u001b[0m\u001b[1;33m)\u001b[0m\u001b[1;33m,\u001b[0m \u001b[0mactivation\u001b[0m\u001b[1;33m=\u001b[0m\u001b[1;34m'relu'\u001b[0m\u001b[1;33m,\u001b[0m \u001b[0mpadding\u001b[0m\u001b[1;33m=\u001b[0m\u001b[1;34m'same'\u001b[0m\u001b[1;33m,\u001b[0m\u001b[1;33m)\u001b[0m\u001b[1;33m)\u001b[0m\u001b[1;33m\u001b[0m\u001b[1;33m\u001b[0m\u001b[0m\n",
      "\u001b[1;31mNameError\u001b[0m: name 'models' is not defined"
     ]
    }
   ],
   "source": [
    "model2 = models.Sequential()\n",
    "model2.add(layers.Conv2D(32, (2, 2), activation='relu', padding='same',\n",
    "                        input_shape=(32, 32, 3)))\n",
    "model2.add(layers.BatchNormalization())\n",
    "model2.add(layers.Conv2D(32, (2, 2), activation='relu', padding='same',))\n",
    "model2.add(layers.BatchNormalization())\n",
    "model2.add(layers.MaxPooling2D((2, 2)))\n",
    "model2.add(layers.Dropout(0.2)) \n",
    "\n",
    "model2.add(layers.Conv2D(64, (2, 2), activation='relu', padding='same',))\n",
    "model2.add(layers.BatchNormalization())\n",
    "model2.add(layers.Conv2D(64, (2, 2), activation='relu', padding='same',))\n",
    "model2.add(layers.BatchNormalization())\n",
    "model2.add(layers.MaxPooling2D((2, 2)))\n",
    "model2.add(layers.Dropout(0.2)) \n",
    "\n",
    "model2.add(layers.Conv2D(128, (2, 2), activation='relu', padding='same',))\n",
    "model2.add(layers.BatchNormalization())\n",
    "model2.add(layers.Conv2D(128, (2, 2), activation='relu', padding='same',))\n",
    "model2.add(layers.BatchNormalization())\n",
    "model2.add(layers.MaxPooling2D((2, 2)))\n",
    "model2.add(layers.Dropout(0.2))\n",
    "\n",
    "model2.add(layers.Flatten())\n",
    "model2.add(layers.Dense(1024, activation='relu'))\n",
    "model2.add(layers.Dense(512, activation='relu'))\n",
    "model2.add(layers.Dense(10, activation='softmax'))\n",
    "\n",
    "model2.compile(loss='categorical_crossentropy',\n",
    "              optimizer=optimizers.RMSprop(0.001,0.91,0.01,1e-07,False),\n",
    "              metrics=['acc'])"
   ]
  },
  {
   "cell_type": "code",
   "execution_count": 9,
   "id": "fd3cdb07",
   "metadata": {},
   "outputs": [
    {
     "name": "stdout",
     "output_type": "stream",
     "text": [
      "Epoch 1/10\n",
      "625/625 [==============================] - 89s 142ms/step - loss: 1.5413 - acc: 0.4865 - val_loss: 1.0763 - val_acc: 0.6143\n",
      "Epoch 2/10\n",
      "625/625 [==============================] - 88s 141ms/step - loss: 0.9829 - acc: 0.6566 - val_loss: 0.8976 - val_acc: 0.6891\n",
      "Epoch 3/10\n",
      "625/625 [==============================] - 88s 141ms/step - loss: 0.8366 - acc: 0.7117 - val_loss: 0.8960 - val_acc: 0.6905\n",
      "Epoch 4/10\n",
      "625/625 [==============================] - 86s 137ms/step - loss: 0.7527 - acc: 0.7413 - val_loss: 0.8488 - val_acc: 0.7205\n",
      "Epoch 5/10\n",
      "625/625 [==============================] - 87s 139ms/step - loss: 0.6833 - acc: 0.7656 - val_loss: 0.7234 - val_acc: 0.7524\n",
      "Epoch 6/10\n",
      "625/625 [==============================] - 88s 141ms/step - loss: 0.6323 - acc: 0.7850 - val_loss: 0.8020 - val_acc: 0.7490\n",
      "Epoch 7/10\n",
      "625/625 [==============================] - 88s 141ms/step - loss: 0.5807 - acc: 0.8000 - val_loss: 0.7477 - val_acc: 0.7570\n",
      "Epoch 8/10\n",
      "625/625 [==============================] - 87s 139ms/step - loss: 0.5457 - acc: 0.8150 - val_loss: 0.6995 - val_acc: 0.7711\n",
      "Epoch 9/10\n",
      "625/625 [==============================] - 89s 142ms/step - loss: 0.5046 - acc: 0.8270 - val_loss: 0.7589 - val_acc: 0.7665\n",
      "Epoch 10/10\n",
      "625/625 [==============================] - 89s 142ms/step - loss: 0.4656 - acc: 0.8424 - val_loss: 0.7653 - val_acc: 0.7756\n"
     ]
    },
    {
     "data": {
      "text/plain": [
       "0.7431174874305725"
      ]
     },
     "execution_count": 9,
     "metadata": {},
     "output_type": "execute_result"
    }
   ],
   "source": [
    "from keras import utils\n",
    "from keras.preprocessing.image import ImageDataGenerator\n",
    "\n",
    "datagen = ImageDataGenerator(validation_split=0.2)\n",
    "\n",
    "train_generator = datagen.flow(\n",
    "    dataToIMG(training_data), \n",
    "    utils.to_categorical(training_labels), \n",
    "    batch_size=64,\n",
    "    subset=\"training\")\n",
    "\n",
    "validation_generator = datagen.flow(\n",
    "    dataToIMG(training_data), \n",
    "    utils.to_categorical(training_labels), \n",
    "    batch_size=64,\n",
    "    subset=\"validation\")\n",
    "\n",
    "history = model2.fit(\n",
    "    train_generator,\n",
    "    epochs=10,\n",
    "    validation_data=validation_generator)\n",
    "\n",
    "np.mean(history.history[\"acc\"])"
   ]
  },
  {
   "cell_type": "code",
   "execution_count": 10,
   "id": "84b63cb5",
   "metadata": {},
   "outputs": [
    {
     "name": "stdout",
     "output_type": "stream",
     "text": [
      "313/313 [==============================] - 3s 11ms/step - loss: 0.8208 - acc: 0.7666: 2s - loss: 0.8091 - \n"
     ]
    }
   ],
   "source": [
    "img_test_data = dataToIMG(test_data)\n",
    "img_test_labels = utils.to_categorical(test_labels)\n",
    "\n",
    "model2.evaluate(\n",
    "    x=img_test_data,\n",
    "    y=img_test_labels)[1]\n",
    "\n",
    "model2.save('model2.h5')"
   ]
  },
  {
   "cell_type": "markdown",
   "id": "4856c65b",
   "metadata": {},
   "source": [
    "Model 3"
   ]
  },
  {
   "cell_type": "code",
   "execution_count": 12,
   "id": "4f6f05ec",
   "metadata": {},
   "outputs": [
    {
     "name": "stdout",
     "output_type": "stream",
     "text": [
      "Model: \"sequential_4\"\n",
      "_________________________________________________________________\n",
      "Layer (type)                 Output Shape              Param #   \n",
      "=================================================================\n",
      "conv2d_26 (Conv2D)           (None, 32, 32, 32)        416       \n",
      "_________________________________________________________________\n",
      "batch_normalization_20 (Batc (None, 32, 32, 32)        128       \n",
      "_________________________________________________________________\n",
      "conv2d_27 (Conv2D)           (None, 32, 32, 32)        4128      \n",
      "_________________________________________________________________\n",
      "batch_normalization_21 (Batc (None, 32, 32, 32)        128       \n",
      "_________________________________________________________________\n",
      "max_pooling2d_13 (MaxPooling (None, 16, 16, 32)        0         \n",
      "_________________________________________________________________\n",
      "dropout_10 (Dropout)         (None, 16, 16, 32)        0         \n",
      "_________________________________________________________________\n",
      "conv2d_28 (Conv2D)           (None, 16, 16, 64)        8256      \n",
      "_________________________________________________________________\n",
      "batch_normalization_22 (Batc (None, 16, 16, 64)        256       \n",
      "_________________________________________________________________\n",
      "conv2d_29 (Conv2D)           (None, 16, 16, 64)        16448     \n",
      "_________________________________________________________________\n",
      "batch_normalization_23 (Batc (None, 16, 16, 64)        256       \n",
      "_________________________________________________________________\n",
      "max_pooling2d_14 (MaxPooling (None, 8, 8, 64)          0         \n",
      "_________________________________________________________________\n",
      "dropout_11 (Dropout)         (None, 8, 8, 64)          0         \n",
      "_________________________________________________________________\n",
      "conv2d_30 (Conv2D)           (None, 8, 8, 128)         32896     \n",
      "_________________________________________________________________\n",
      "batch_normalization_24 (Batc (None, 8, 8, 128)         512       \n",
      "_________________________________________________________________\n",
      "conv2d_31 (Conv2D)           (None, 8, 8, 128)         65664     \n",
      "_________________________________________________________________\n",
      "batch_normalization_25 (Batc (None, 8, 8, 128)         512       \n",
      "_________________________________________________________________\n",
      "max_pooling2d_15 (MaxPooling (None, 4, 4, 128)         0         \n",
      "_________________________________________________________________\n",
      "dropout_12 (Dropout)         (None, 4, 4, 128)         0         \n",
      "_________________________________________________________________\n",
      "conv2d_32 (Conv2D)           (None, 4, 4, 256)         131328    \n",
      "_________________________________________________________________\n",
      "batch_normalization_26 (Batc (None, 4, 4, 256)         1024      \n",
      "_________________________________________________________________\n",
      "conv2d_33 (Conv2D)           (None, 4, 4, 256)         262400    \n",
      "_________________________________________________________________\n",
      "batch_normalization_27 (Batc (None, 4, 4, 256)         1024      \n",
      "_________________________________________________________________\n",
      "max_pooling2d_16 (MaxPooling (None, 2, 2, 256)         0         \n",
      "_________________________________________________________________\n",
      "dropout_13 (Dropout)         (None, 2, 2, 256)         0         \n",
      "_________________________________________________________________\n",
      "flatten_4 (Flatten)          (None, 1024)              0         \n",
      "_________________________________________________________________\n",
      "dense_9 (Dense)              (None, 128)               131200    \n",
      "_________________________________________________________________\n",
      "dense_10 (Dense)             (None, 10)                1290      \n",
      "=================================================================\n",
      "Total params: 657,866\n",
      "Trainable params: 655,946\n",
      "Non-trainable params: 1,920\n",
      "_________________________________________________________________\n"
     ]
    }
   ],
   "source": [
    "model3 = models.Sequential()\n",
    "model3.add(layers.Conv2D(32, (2, 2), activation='relu', padding='same',\n",
    "                        input_shape=(32, 32, 3)))\n",
    "model3.add(layers.BatchNormalization())\n",
    "model3.add(layers.Conv2D(32, (2, 2), activation='relu', padding='same',))\n",
    "model3.add(layers.BatchNormalization())\n",
    "model3.add(layers.MaxPooling2D((2, 2)))\n",
    "model3.add(layers.Dropout(0.2))\n",
    "\n",
    "model3.add(layers.Conv2D(64, (2, 2), activation='relu', padding='same',))\n",
    "model3.add(layers.BatchNormalization())\n",
    "model3.add(layers.Conv2D(64, (2, 2), activation='relu', padding='same',))\n",
    "model3.add(layers.BatchNormalization())\n",
    "model3.add(layers.MaxPooling2D((2, 2)))\n",
    "model3.add(layers.Dropout(0.2))\n",
    "\n",
    "model3.add(layers.Conv2D(128, (2, 2), activation='relu', padding='same',))\n",
    "model3.add(layers.BatchNormalization())\n",
    "model3.add(layers.Conv2D(128, (2, 2), activation='relu', padding='same',))\n",
    "model3.add(layers.BatchNormalization())\n",
    "model3.add(layers.MaxPooling2D((2, 2)))\n",
    "model3.add(layers.Dropout(0.2))\n",
    "\n",
    "model3.add(layers.Conv2D(256, (2, 2), activation='relu', padding='same',))\n",
    "model3.add(layers.BatchNormalization())\n",
    "model3.add(layers.Conv2D(256, (2, 2), activation='relu', padding='same',))\n",
    "model3.add(layers.BatchNormalization())\n",
    "model3.add(layers.MaxPooling2D((2, 2)))\n",
    "model3.add(layers.Dropout(0.2))\n",
    "\n",
    "model3.add(layers.Flatten())\n",
    "model3.add(layers.Dense(128, activation='relu'))\n",
    "model3.add(layers.Dense(10, activation='softmax'))\n",
    "model3.summary()\n",
    "\n",
    "model3.compile(loss='categorical_crossentropy',\n",
    "              optimizer=optimizers.Adam(0.001,0.905,0.991,1e-06,False),\n",
    "              metrics=['acc'])"
   ]
  },
  {
   "cell_type": "code",
   "execution_count": 13,
   "id": "054a9ce3",
   "metadata": {},
   "outputs": [
    {
     "name": "stdout",
     "output_type": "stream",
     "text": [
      "Epoch 1/10\n",
      "625/625 [==============================] - 93s 148ms/step - loss: 1.6026 - acc: 0.4136 - val_loss: 1.2452 - val_acc: 0.5578\n",
      "Epoch 2/10\n",
      "625/625 [==============================] - 94s 150ms/step - loss: 1.1223 - acc: 0.5976 - val_loss: 1.0240 - val_acc: 0.6442\n",
      "Epoch 3/10\n",
      "625/625 [==============================] - 93s 149ms/step - loss: 0.9265 - acc: 0.6709 - val_loss: 0.9256 - val_acc: 0.6746\n",
      "Epoch 4/10\n",
      "625/625 [==============================] - 91s 146ms/step - loss: 0.8006 - acc: 0.7171 - val_loss: 0.7831 - val_acc: 0.7254\n",
      "Epoch 5/10\n",
      "625/625 [==============================] - 91s 145ms/step - loss: 0.7112 - acc: 0.7488 - val_loss: 0.7452 - val_acc: 0.7430\n",
      "Epoch 6/10\n",
      "625/625 [==============================] - 90s 144ms/step - loss: 0.6471 - acc: 0.7729 - val_loss: 0.7000 - val_acc: 0.7606\n",
      "Epoch 7/10\n",
      "625/625 [==============================] - 90s 144ms/step - loss: 0.5869 - acc: 0.7936 - val_loss: 0.6707 - val_acc: 0.7677\n",
      "Epoch 8/10\n",
      "625/625 [==============================] - 88s 141ms/step - loss: 0.5419 - acc: 0.8095 - val_loss: 0.6075 - val_acc: 0.7933\n",
      "Epoch 9/10\n",
      "625/625 [==============================] - 87s 140ms/step - loss: 0.5038 - acc: 0.8215 - val_loss: 0.5791 - val_acc: 0.8032\n",
      "Epoch 10/10\n",
      "625/625 [==============================] - 89s 143ms/step - loss: 0.4665 - acc: 0.8361 - val_loss: 0.5991 - val_acc: 0.7997\n"
     ]
    },
    {
     "data": {
      "text/plain": [
       "0.7181524991989136"
      ]
     },
     "execution_count": 13,
     "metadata": {},
     "output_type": "execute_result"
    }
   ],
   "source": [
    "datagen = ImageDataGenerator(validation_split=0.2)\n",
    "\n",
    "train_generator = datagen.flow(\n",
    "    dataToIMG(training_data), \n",
    "    utils.to_categorical(training_labels), \n",
    "    batch_size=64,\n",
    "    subset=\"training\")\n",
    "\n",
    "validation_generator = datagen.flow(\n",
    "    dataToIMG(training_data), \n",
    "    utils.to_categorical(training_labels), \n",
    "    batch_size=64,\n",
    "    subset=\"validation\")\n",
    "\n",
    "history = model3.fit(\n",
    "    train_generator,\n",
    "    epochs=10,\n",
    "    validation_data=validation_generator)\n",
    "\n",
    "np.mean(history.history[\"acc\"])"
   ]
  },
  {
   "cell_type": "code",
   "execution_count": 14,
   "id": "6271400a",
   "metadata": {},
   "outputs": [
    {
     "name": "stdout",
     "output_type": "stream",
     "text": [
      "313/313 [==============================] - 3s 11ms/step - loss: 0.6303 - acc: 0.7924\n"
     ]
    }
   ],
   "source": [
    "img_test_data = dataToIMG(test_data)\n",
    "img_test_labels = utils.to_categorical(test_labels)\n",
    "\n",
    "model3.evaluate(\n",
    "    x=img_test_data,\n",
    "    y=img_test_labels)[1]\n",
    "\n",
    "model3.save('model3.h5')"
   ]
  },
  {
   "cell_type": "code",
   "execution_count": null,
   "id": "8aeb60cc",
   "metadata": {},
   "outputs": [],
   "source": []
  }
 ],
 "metadata": {
  "kernelspec": {
   "display_name": "Python 3 (ipykernel)",
   "language": "python",
   "name": "python3"
  },
  "language_info": {
   "codemirror_mode": {
    "name": "ipython",
    "version": 3
   },
   "file_extension": ".py",
   "mimetype": "text/x-python",
   "name": "python",
   "nbconvert_exporter": "python",
   "pygments_lexer": "ipython3",
   "version": "3.9.6"
  }
 },
 "nbformat": 4,
 "nbformat_minor": 5
}
